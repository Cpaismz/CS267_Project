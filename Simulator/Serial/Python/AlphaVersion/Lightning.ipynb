{
 "cells": [
  {
   "cell_type": "code",
   "execution_count": 4,
   "metadata": {
    "collapsed": true
   },
   "outputs": [],
   "source": [
    "################################################################################################################\n",
    "#\n",
    "#               FireSimulator serial and parallel version 1.0 - April 2018 \n",
    "#               Author: Cristobal Pais\n",
    "#               example: mpiexec -n X python Path\\Simulator1Beta.py  where X is the number of parallel processes\n",
    "#\n",
    "################################################################################################################\n",
    "\n",
    "# Importations\n",
    "import numpy as np\n",
    "\n",
    "# Lightning Class: Fire ignition class, determines the week when fire starts, based on a poisson strike\t\n",
    "class Lightning:\n",
    "    PoissonRate = None\n",
    "\n",
    "    '''\n",
    "    Inputs:\n",
    "    period       int\n",
    "    '''\n",
    "    # Returns true if a fire starts in a particular week of the fire season\n",
    "    def Lambda_Simple_Test(self, period):\n",
    "        Selected_Week = np.random.randint(1, 13)\n",
    "        return Selected_Week\n",
    "\n",
    "    \n",
    "    '''\n",
    "    Inputs:\n",
    "    period       int\n",
    "    verbose      string\n",
    "    '''\n",
    "    # Returns the probability of having a fire in a week of the fire season\n",
    "    def Lambda_NH(self, period, verbose):\n",
    "        Fire_Rate = 0.5\n",
    "        AlfaFact = 0.1\n",
    "        Poisson_Mean = (Fire_Rate / 2.0) * (2.0 + AlfaFact * ((period ** 2) - (period-1) ** 2 - 2.0))\n",
    "        ProbsNoFire = np.round(np.exp(-Poisson_Mean), 2)\n",
    "        if verbose == True:\n",
    "            print(\"Probs of not fire (week \"+ str(period)+\"): \"+str(ProbsNoFire))\n",
    "         \n",
    "        if np.round(np.random.uniform(0,1), 2) > ProbsNoFire:\n",
    "            return True\n",
    "        else:\n",
    "            return False\n",
    "        \n",
    "    '''\n",
    "    Inputs:\n",
    "    period       int\n",
    "    verbose      string\n",
    "    '''        \n",
    "    # Returns the probability of having a fire in a week of the fire season\n",
    "    def Lambda_H(self, period, verbose):\n",
    "        Poisson_Mean = 0.5\n",
    "        ProbsNoFire = np.round(np.exp(-Poisson_Mean), 2)\n",
    "        if verbose == True:\n",
    "            print(\"Probs of not fire (week \" + str(period)+\"): \" + str(ProbsNoFire))\n",
    "            \n",
    "        if np.round(np.random.uniform(0,1), 2) > ProbsNoFire:\n",
    "            return True\n",
    "        else:\n",
    "            return False"
   ]
  },
  {
   "cell_type": "code",
   "execution_count": 5,
   "metadata": {},
   "outputs": [
    {
     "name": "stderr",
     "output_type": "stream",
     "text": [
      "[NbConvertApp] Converting notebook Lightning.ipynb to script\n",
      "[NbConvertApp] Writing 2105 bytes to Lightning.py\n"
     ]
    }
   ],
   "source": [
    "!jupyter nbconvert --to script Lightning.ipynb"
   ]
  }
 ],
 "metadata": {
  "kernelspec": {
   "display_name": "Python 3",
   "language": "python",
   "name": "python3"
  },
  "language_info": {
   "codemirror_mode": {
    "name": "ipython",
    "version": 3
   },
   "file_extension": ".py",
   "mimetype": "text/x-python",
   "name": "python",
   "nbconvert_exporter": "python",
   "pygments_lexer": "ipython3",
   "version": "3.6.2"
  }
 },
 "nbformat": 4,
 "nbformat_minor": 2
}
