{
 "cells": [
  {
   "cell_type": "code",
   "execution_count": 4,
   "metadata": {
    "collapsed": true
   },
   "outputs": [],
   "source": [
    "######################################################################################################################################\n",
    "#\n",
    "#               FireSimulator serial and parallel version 1.0 - April 2018 \n",
    "#               Author: Cristobal Pais\n",
    "#               example: mpiexec -n X python Path\\Simulator1Beta.py  where X is the number of parallel processes\n",
    "#\n",
    "######################################################################################################################################\n",
    "'''\n",
    "# Forest Class: defining the main parameters of the instance including \n",
    "# ID (int), Location (String), Coordinates (Lat & Long, double list), \n",
    "# NCells (int), Area (double), Vol (double), Age (double), Perimeter (double)\n",
    "# types of trees (dictionary)\n",
    "\n",
    "Inputs:\n",
    "ID        int\n",
    "Location  string\n",
    "Coord     double 2D array\n",
    "NCells    int\n",
    "Area      int\n",
    "Vol       double\n",
    "Age       double\n",
    "Perimeter double\n",
    "FTypes    dictionary / list  (any of them)\n",
    "'''\n",
    "class Forest:\n",
    "    def __init__(self, ID, Location, Coord, NCells, Area, Vol, Age, Perimeter, FTypes):\n",
    "        #Constructor\n",
    "        self.ID = ID\n",
    "        self.Location = Location\n",
    "        self.Coord = Coord\n",
    "        self.NCells = NCells\n",
    "        self.Area = Area\n",
    "        self.Vol = Vol\n",
    "        self.Age = Age\n",
    "        self.FTypes = FTypes\n",
    "\n",
    "        self.CellsDistance = {}\n",
    "        self.AvailCells = []\n",
    "        self.AvailCells.append(list(range(1,self.NCells + 1)))\n",
    "        self.BurntCells = list()\n",
    "        \n",
    "    #AvailCells list takes the value from the actual AvailCells set (global set)\n",
    "    def set_AvailCells(period,AvailCells_set):\n",
    "        self.AvailCells[period] = AvailCells.insert((period) ,list(AvailCells_set))\n",
    "        return AvailCells\n",
    "        \n",
    "    #BurntCells list takes the value from the actual BurntCells set (global set)\n",
    "    def set_BurntCells(period,BurntCells_set):\n",
    "        self.BurntCells[period] = BurntCells.insert((period), list(BurntCells_set))\n",
    "        return BurntCells\n",
    "        \n",
    "    # Prints-out info forest's info\n",
    "    def print_info(self):\n",
    "        print(\"Forest Information\", \n",
    "              \"\\n\" ,\" ID = \" + str(self.ID), \n",
    "              \"\\n\" + \" Location = \"+ str(self.Location),\n",
    "              \"\\n\" + \" Coordinates = \" + str(self.Coord), \n",
    "              \"\\n\" + \" NCells = \" + str(self.NCells),\n",
    "              \"\\n\" + \" Area = \" + str(self.Area),\n",
    "              \"\\n\" + \" Vol = \" + str(self.Vol), \n",
    "              \"\\n\" + \" Age = \" + str(self.Age),\n",
    "              \"\\n\" + \" FTypes = \"+ str(self.FTypes))"
   ]
  },
  {
   "cell_type": "code",
   "execution_count": 5,
   "metadata": {},
   "outputs": [
    {
     "name": "stderr",
     "output_type": "stream",
     "text": [
      "[NbConvertApp] Converting notebook Forest.ipynb to script\n",
      "[NbConvertApp] Writing 2502 bytes to Forest.py\n"
     ]
    }
   ],
   "source": [
    "!jupyter nbconvert --to script Forest.ipynb"
   ]
  },
  {
   "cell_type": "code",
   "execution_count": null,
   "metadata": {
    "collapsed": true
   },
   "outputs": [],
   "source": []
  }
 ],
 "metadata": {
  "kernelspec": {
   "display_name": "Python 3",
   "language": "python",
   "name": "python3"
  },
  "language_info": {
   "codemirror_mode": {
    "name": "ipython",
    "version": 3
   },
   "file_extension": ".py",
   "mimetype": "text/x-python",
   "name": "python",
   "nbconvert_exporter": "python",
   "pygments_lexer": "ipython3",
   "version": "3.6.2"
  }
 },
 "nbformat": 4,
 "nbformat_minor": 2
}
